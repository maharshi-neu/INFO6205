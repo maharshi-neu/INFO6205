{
 "cells": [
  {
   "cell_type": "code",
   "execution_count": 1,
   "metadata": {},
   "outputs": [],
   "source": [
    "import matplotlib.pyplot as plt\n",
    "import numpy as np\n",
    "import pandas as pd\n",
    "from scipy.interpolate import interp1d\n",
    "\n",
    "\n",
    "x = np.linspace(0, 10, num=11, endpoint=True)\n",
    "y = np.cos(-x**2/9.0)\n",
    "f = interp1d(x, y)\n",
    "f2 = interp1d(x, y, kind='cubic')\n",
    "\n",
    "xnew = np.linspace(0, 10, num=41, endpoint=True)"
   ]
  },
  {
   "cell_type": "code",
   "execution_count": 2,
   "metadata": {},
   "outputs": [
    {
     "data": {
      "text/html": [
       "<div>\n",
       "<style scoped>\n",
       "    .dataframe tbody tr th:only-of-type {\n",
       "        vertical-align: middle;\n",
       "    }\n",
       "\n",
       "    .dataframe tbody tr th {\n",
       "        vertical-align: top;\n",
       "    }\n",
       "\n",
       "    .dataframe thead th {\n",
       "        text-align: right;\n",
       "    }\n",
       "</style>\n",
       "<table border=\"1\" class=\"dataframe\">\n",
       "  <thead>\n",
       "    <tr style=\"text-align: right;\">\n",
       "      <th></th>\n",
       "      <th>128</th>\n",
       "      <th>256</th>\n",
       "      <th>512</th>\n",
       "      <th>1024</th>\n",
       "      <th>2048</th>\n",
       "    </tr>\n",
       "  </thead>\n",
       "  <tbody>\n",
       "    <tr>\n",
       "      <th>0</th>\n",
       "      <td>251</td>\n",
       "      <td>624</td>\n",
       "      <td>1522</td>\n",
       "      <td>2895</td>\n",
       "      <td>8087</td>\n",
       "    </tr>\n",
       "    <tr>\n",
       "      <th>1</th>\n",
       "      <td>256</td>\n",
       "      <td>647</td>\n",
       "      <td>1638</td>\n",
       "      <td>3255</td>\n",
       "      <td>9442</td>\n",
       "    </tr>\n",
       "    <tr>\n",
       "      <th>2</th>\n",
       "      <td>294</td>\n",
       "      <td>687</td>\n",
       "      <td>1692</td>\n",
       "      <td>4426</td>\n",
       "      <td>9452</td>\n",
       "    </tr>\n",
       "    <tr>\n",
       "      <th>3</th>\n",
       "      <td>317</td>\n",
       "      <td>741</td>\n",
       "      <td>1853</td>\n",
       "      <td>4782</td>\n",
       "      <td>9866</td>\n",
       "    </tr>\n",
       "    <tr>\n",
       "      <th>4</th>\n",
       "      <td>390</td>\n",
       "      <td>865</td>\n",
       "      <td>2503</td>\n",
       "      <td>5755</td>\n",
       "      <td>10073</td>\n",
       "    </tr>\n",
       "  </tbody>\n",
       "</table>\n",
       "</div>"
      ],
      "text/plain": [
       "   128   256   512   1024   2048\n",
       "0   251   624  1522  2895   8087\n",
       "1   256   647  1638  3255   9442\n",
       "2   294   687  1692  4426   9452\n",
       "3   317   741  1853  4782   9866\n",
       "4   390   865  2503  5755  10073"
      ]
     },
     "execution_count": 2,
     "metadata": {},
     "output_type": "execute_result"
    }
   ],
   "source": [
    "m128 = [294, 251, 390, 317, 256]\n",
    "m256 = [865, 624, 647, 687, 741]\n",
    "m512 = [1692, 1522, 1638, 2503, 1853]\n",
    "m1024 = [2895, 4426, 3255, 4782, 5755]\n",
    "m2048 = [9442, 8087, 9866, 9452, 10073]\n",
    "\n",
    "m128.sort();m256.sort();m512.sort();m1024.sort();m2048.sort()\n",
    "\n",
    "df = pd.DataFrame()\n",
    "\n",
    "df[128] = m128\n",
    "df[256] = m256\n",
    "df[512] = m512\n",
    "df[1024] = m1024\n",
    "df[2048] = m2048\n",
    "\n",
    "df"
   ]
  },
  {
   "cell_type": "code",
   "execution_count": 3,
   "metadata": {},
   "outputs": [
    {
     "name": "stdout",
     "output_type": "stream",
     "text": [
      "128\n",
      "0    1.960938\n",
      "1    2.000000\n",
      "2    2.296875\n",
      "3    2.476562\n",
      "4    3.046875\n",
      "Name: 128, dtype: float64\n",
      "--------------------------\n",
      "256\n",
      "0    2.437500\n",
      "1    2.527344\n",
      "2    2.683594\n",
      "3    2.894531\n",
      "4    3.378906\n",
      "Name: 256, dtype: float64\n",
      "--------------------------\n",
      "512\n",
      "0    2.972656\n",
      "1    3.199219\n",
      "2    3.304688\n",
      "3    3.619141\n",
      "4    4.888672\n",
      "Name: 512, dtype: float64\n",
      "--------------------------\n",
      "1024\n",
      "0    2.827148\n",
      "1    3.178711\n",
      "2    4.322266\n",
      "3    4.669922\n",
      "4    5.620117\n",
      "Name: 1024, dtype: float64\n",
      "--------------------------\n",
      "2048\n",
      "0    3.948730\n",
      "1    4.610352\n",
      "2    4.615234\n",
      "3    4.817383\n",
      "4    4.918457\n",
      "Name: 2048, dtype: float64\n",
      "--------------------------\n"
     ]
    }
   ],
   "source": [
    "for m in [128, 256, 512, 1024, 2048]:\n",
    "    print m\n",
    "    print df[m].apply(lambda x: x/float(m))\n",
    "    print '--------------------------'"
   ]
  },
  {
   "cell_type": "code",
   "execution_count": 19,
   "metadata": {},
   "outputs": [
    {
     "data": {
      "image/png": "[encoded data removed]",
      "text/plain": [
       "<Figure size 432x288 with 1 Axes>"
      ]
     },
     "metadata": {
      "needs_background": "light"
     },
     "output_type": "display_data"
    }
   ],
   "source": [
    "plt.plot(m128, 'o--', color='darkblue', label=\"128\")\n",
    "\n",
    "plt.legend()\n",
    "plt.show()"
   ]
  },
  {
   "cell_type": "code",
   "execution_count": 23,
   "metadata": {},
   "outputs": [
    {
     "data": {
      "image/png": "[encoded data removed]",
      "text/plain": [
       "<Figure size 432x288 with 1 Axes>"
      ]
     },
     "metadata": {
      "needs_background": "light"
     },
     "output_type": "display_data"
    }
   ],
   "source": [
    "plt.plot(m256, 'o--', color='red', label=\"256\")\n",
    "\n",
    "plt.legend()\n",
    "plt.show()"
   ]
  },
  {
   "cell_type": "code",
   "execution_count": 22,
   "metadata": {
    "scrolled": true
   },
   "outputs": [
    {
     "data": {
      "image/png": "[encoded data removed]",
      "text/plain": [
       "<Figure size 432x288 with 1 Axes>"
      ]
     },
     "metadata": {
      "needs_background": "light"
     },
     "output_type": "display_data"
    }
   ],
   "source": [
    "plt.plot(m512, 'o--', color='orange', label=\"512\")\n",
    "\n",
    "plt.legend()\n",
    "plt.show()"
   ]
  },
  {
   "cell_type": "code",
   "execution_count": 26,
   "metadata": {},
   "outputs": [
    {
     "data": {
      "image/png": "[encoded data removed]",
      "text/plain": [
       "<Figure size 432x288 with 1 Axes>"
      ]
     },
     "metadata": {
      "needs_background": "light"
     },
     "output_type": "display_data"
    }
   ],
   "source": [
    "all = [max(m128), max(m256), max(m512), max(m1024), max(m2048)]\n",
    "\n",
    "plt.plot(all, 'o--', color='red', label=\"max of all\")\n",
    "\n",
    "plt.legend()\n",
    "plt.show()"
   ]
  }
 ],
 "metadata": {
  "kernelspec": {
   "display_name": "Python 2",
   "language": "python",
   "name": "python2"
  },
  "language_info": {
   "codemirror_mode": {
    "name": "ipython",
    "version": 2
   },
   "file_extension": ".py",
   "mimetype": "text/x-python",
   "name": "python",
   "nbconvert_exporter": "python",
   "pygments_lexer": "ipython2",
   "version": "2.7.15rc1"
  }
 },
 "nbformat": 4,
 "nbformat_minor": 2
}
